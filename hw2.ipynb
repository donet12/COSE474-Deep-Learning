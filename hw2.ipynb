{
 "cells": [
  {
   "cell_type": "code",
   "execution_count": 6,
   "id": "695623dd",
   "metadata": {
    "scrolled": true
   },
   "outputs": [
    {
     "name": "stdout",
     "output_type": "stream",
     "text": [
      "number of classes:  4  sigma for data scatter: 1.0\n",
      "generating training data\n",
      "400 data points generated. Seed is random.\n"
     ]
    },
    {
     "data": {
      "image/png": "[encoded data removed]",
      "text/plain": [
       "<Figure size 640x480 with 1 Axes>"
      ]
     },
     "metadata": {},
     "output_type": "display_data"
    },
    {
     "name": "stdout",
     "output_type": "stream",
     "text": [
      "generating test data\n",
      "100 data points generated. Seed is random.\n",
      "training softmax classifier...\n",
      "testing softmax classifier...\n",
      "accuracy of softmax loss:  95.0 %\n"
     ]
    },
    {
     "ename": "NameError",
     "evalue": "name 'x' is not defined",
     "output_type": "error",
     "traceback": [
      "\u001b[1;31m---------------------------------------------------------------------------\u001b[0m",
      "\u001b[1;31mNameError\u001b[0m                                 Traceback (most recent call last)",
      "Cell \u001b[1;32mIn[6], line 113\u001b[0m\n\u001b[0;32m    111\u001b[0m Wb \u001b[38;5;241m=\u001b[39m result\u001b[38;5;241m.\u001b[39mx\n\u001b[0;32m    112\u001b[0m \u001b[38;5;28mprint\u001b[39m(\u001b[38;5;124m'\u001b[39m\u001b[38;5;124maccuracy of softmax loss: \u001b[39m\u001b[38;5;124m'\u001b[39m, linear_classifier_test(Wb, x_test, y_test, num_class)\u001b[38;5;241m*\u001b[39m\u001b[38;5;241m100\u001b[39m,\u001b[38;5;124m'\u001b[39m\u001b[38;5;124m%\u001b[39m\u001b[38;5;124m'\u001b[39m)\n\u001b[1;32m--> 113\u001b[0m \u001b[38;5;28mprint\u001b[39m(\u001b[43mx\u001b[49m\u001b[38;5;241m.\u001b[39mshape)\n",
      "\u001b[1;31mNameError\u001b[0m: name 'x' is not defined"
     ]
    }
   ],
   "source": [
    "'''\n",
    "HW2 problem\n",
    "'''\n",
    "\n",
    "import sys\n",
    "import os\n",
    "import matplotlib.pyplot as plt\n",
    "import numpy as np\n",
    "from scipy import stats\n",
    "import scipy.special as sp\n",
    "import time\n",
    "from scipy.optimize import minimize\n",
    "\n",
    "import data_generator as dg\n",
    "\n",
    "# you can define/use whatever functions to implememt\n",
    "# feat_dim : dim of input data (우리 과제에서는 2)\n",
    "# shape(x) = (n_test, 2)\n",
    "# shape(y) = (n_test,)\n",
    "# shpae(W 행렬) = (num_class, 2)\n",
    "# Wb : 마지막 num_class개는 bias 값\n",
    "\n",
    "########################################\n",
    "# cross entropy loss\n",
    "########################################\n",
    "def cross_entropy_softmax_loss(Wb, x, y, num_class, n, feat_dim):\n",
    "    # implement your function here\n",
    "    # return cross entropy loss\n",
    "\n",
    "    Wb = np.reshape(Wb, (-1, 1))\n",
    "    b = Wb[-num_class:].squeeze()\n",
    "    W = np.reshape(Wb[:-num_class], (num_class, feat_dim))\n",
    "\n",
    "    s = x@W.T + b\n",
    "    # score has shape (n_test, num_class)\n",
    "\n",
    "    # 예측된 확률 계산 (소프트맥스 함수 사용)\n",
    "    exp_s = np.exp(s)\n",
    "    softmax_prob = exp_s / np.sum(exp_s, axis=1, keepdims=True)\n",
    "\n",
    "    loss_sum = 0\n",
    "    for i in range(0, n):\n",
    "        loss_sum += (-1) * np.log(softmax_prob[i][y[i]])\n",
    "    \n",
    "    loss = loss_sum / n\n",
    "    \n",
    "    return loss\n",
    "\n",
    "# now lets test the model for linear models, that is, SVM and softmax\n",
    "def linear_classifier_test(Wb, x, y, num_class):\n",
    "    n_test = x.shape[0]\n",
    "    feat_dim = x.shape[1]\n",
    "    \n",
    "    Wb = np.reshape(Wb, (-1, 1))\n",
    "    # np.squeeze()는 크기가 1인 axis를 삭제\n",
    "    b = Wb[-num_class:].squeeze()\n",
    "    W = np.reshape(Wb[:-num_class], (num_class, feat_dim))\n",
    "    accuracy = 0\n",
    "\n",
    "    # W has shape (num_class, feat_dim), b has shape (num_class,)\n",
    "\n",
    "    # numpy array에서 기본은 행 벡터\n",
    "    # score\n",
    "    s = x@W.T + b\n",
    "    # score has shape (n_test, num_class) ;n_test : input data 개수\n",
    "    \n",
    "    # get argmax over class dim\n",
    "    # 분류해야하는 class의 종류가 4가지 이면 0, 1, 2, 3 중 하나의 값을 가짐. size는 n_text임\n",
    "    res = np.argmax(s, axis = 1)\n",
    "\n",
    "    # get accuracy\n",
    "    accuracy = (res == y).astype('uint8').sum()/n_test\n",
    "    \n",
    "    return accuracy\n",
    "\n",
    "\n",
    "# number of classes: this can be either 3 or 4\n",
    "num_class = 4\n",
    "\n",
    "# sigma controls the degree of data scattering. Larger sigma gives larger scatter\n",
    "# default is 1.0. Accuracy becomes lower with larger sigma\n",
    "sigma = 1.0\n",
    "\n",
    "print('number of classes: ',num_class,' sigma for data scatter:',sigma)\n",
    "if num_class == 4:\n",
    "    n_train = 400\n",
    "    n_test = 100\n",
    "    feat_dim = 2\n",
    "else:  # then 3\n",
    "    n_train = 300\n",
    "    n_test = 60\n",
    "    feat_dim = 2\n",
    "\n",
    "# x_train, x_test의 shape = (num of data, 2)\n",
    "# y_train, y_test의 shape = (num of data, )\n",
    "# generate train dataset\n",
    "print('generating training data')\n",
    "x_train, y_train = dg.generate(number=n_train, seed=None, plot=True, num_class=num_class, sigma=sigma)\n",
    "\n",
    "# generate test dataset\n",
    "print('generating test data')\n",
    "x_test, y_test = dg.generate(number=n_test, seed=None, plot=False, num_class=num_class, sigma=sigma)\n",
    "\n",
    "# start training softmax classifier\n",
    "print('training softmax classifier...')\n",
    "w0 = np.random.normal(0, 1, (2 * num_class + num_class))\n",
    "result = minimize(cross_entropy_softmax_loss, w0, args=(x_train, y_train, num_class, n_train, feat_dim))\n",
    "\n",
    "print('testing softmax classifier...')\n",
    "\n",
    "Wb = result.x\n",
    "print('accuracy of softmax loss: ', linear_classifier_test(Wb, x_test, y_test, num_class)*100,'%')\n"
   ]
  },
  {
   "cell_type": "code",
   "execution_count": 5,
   "id": "b247f434",
   "metadata": {},
   "outputs": [
    {
     "ename": "NameError",
     "evalue": "name 'x' is not defined",
     "output_type": "error",
     "traceback": [
      "\u001b[1;31m---------------------------------------------------------------------------\u001b[0m",
      "\u001b[1;31mNameError\u001b[0m                                 Traceback (most recent call last)",
      "Cell \u001b[1;32mIn[5], line 1\u001b[0m\n\u001b[1;32m----> 1\u001b[0m \u001b[43mx\u001b[49m\u001b[38;5;241m.\u001b[39mshape\n",
      "\u001b[1;31mNameError\u001b[0m: name 'x' is not defined"
     ]
    }
   ],
   "source": []
  },
  {
   "cell_type": "code",
   "execution_count": null,
   "id": "426193cc",
   "metadata": {},
   "outputs": [],
   "source": []
  }
 ],
 "metadata": {
  "kernelspec": {
   "display_name": "Python 3 (ipykernel)",
   "language": "python",
   "name": "python3"
  },
  "language_info": {
   "codemirror_mode": {
    "name": "ipython",
    "version": 3
   },
   "file_extension": ".py",
   "mimetype": "text/x-python",
   "name": "python",
   "nbconvert_exporter": "python",
   "pygments_lexer": "ipython3",
   "version": "3.10.9"
  }
 },
 "nbformat": 4,
 "nbformat_minor": 5
}
